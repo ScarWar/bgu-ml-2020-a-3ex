{
  "nbformat": 4,
  "nbformat_minor": 0,
  "metadata": {
    "colab": {
      "name": "main.ipynb",
      "provenance": []
    },
    "kernelspec": {
      "name": "python3",
      "display_name": "Python 3"
    },
    "accelerator": "GPU"
  },
  "cells": [
    {
      "cell_type": "code",
      "metadata": {
        "id": "-Y_lQD7moqKV"
      },
      "source": [
        "import numpy as np\n",
        "import keras.backend as K"
      ],
      "execution_count": null,
      "outputs": []
    }
  ]
}